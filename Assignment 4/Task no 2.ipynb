{
 "cells": [
  {
   "cell_type": "code",
   "execution_count": 13,
   "id": "6dbb9fd2",
   "metadata": {},
   "outputs": [
    {
     "name": "stdout",
     "output_type": "stream",
     "text": [
      "Checking if 4 exists in list ( using loop ) : \n",
      "Element Exists\n"
     ]
    }
   ],
   "source": [
    "list = [ 1, 6, 3, 5, 3, 4 ]\n",
    " \n",
    "print(\"Checking if 4 exists in list ( using loop ) : \")\n",
    " \n",
    "for i in list:\n",
    "    if(i == 4) :\n",
    "        print (\"Element Exists\")\n",
    " \n"
   ]
  }
 ],
 "metadata": {
  "kernelspec": {
   "display_name": "Python 3",
   "language": "python",
   "name": "python3"
  },
  "language_info": {
   "codemirror_mode": {
    "name": "ipython",
    "version": 3
   },
   "file_extension": ".py",
   "mimetype": "text/x-python",
   "name": "python",
   "nbconvert_exporter": "python",
   "pygments_lexer": "ipython3",
   "version": "3.8.8"
  }
 },
 "nbformat": 4,
 "nbformat_minor": 5
}
