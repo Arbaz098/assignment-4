{
 "cells": [
  {
   "cell_type": "code",
   "execution_count": 2,
   "id": "c9f11b59",
   "metadata": {},
   "outputs": [
    {
     "name": "stdout",
     "output_type": "stream",
     "text": [
      "Which operation do you wanna perform ?Addition,Subtraction,Multplication,Division,&Power\n",
      "\n",
      "If you wanna perform addition so press 1\n",
      "\n",
      "If you wanna perform Subtraction so press 2\n",
      "\n",
      "If you wanna perform Multiplication so press 3\n",
      "\n",
      "If you wanna perform Division so press 4\n",
      "\n",
      "& if you wanna perform Power so press 5\n",
      "3\n",
      "Enter The First Number Here:24.976\n",
      "Enter The Second Number Here:54.654\n",
      "The Multiplication of both numbers is: 1365.038304\n"
     ]
    }
   ],
   "source": [
    "print('''Which operation do you wanna perform?Addition,Subtraction,Multplication,Division,&Power''')\n",
    "operation_name=int(input('''\n",
    "If you wanna perform addition so press 1\\n\n",
    "If you wanna perform Subtraction so press 2\\n\n",
    "If you wanna perform Multiplication so press 3\\n\n",
    "If you wanna perform Division so press 4\\n\n",
    "& if you wanna perform Power so press 5\\n'''))\n",
    "if operation_name==1:\n",
    "    num1=float(input(\"Enter The First Number Here:\"))\n",
    "    num2=float(input(\"Enter The Second Number Here:\"))\n",
    "    print(\"The Sum of both numbers is:\",num1+num2)  \n",
    "    \n",
    "elif operation_name==2:\n",
    "    num1=float(input(\"Enter The First Number Here:\"))\n",
    "    num2=float(input(\"Enter The Second Number Here:\"))\n",
    "    print(\"The Subtraction of both numbers is:\",num1-num2)  \n",
    " \n",
    "\n",
    "elif operation_name==3:\n",
    "    num1=float(input(\"Enter The First Number Here:\"))\n",
    "    num2=float(input(\"Enter The Second Number Here:\"))\n",
    "    print(\"The Multiplication of both numbers is:\",num1*num2)  \n",
    " \n",
    " \n",
    "elif operation_name==4:\n",
    "    num1=float(input(\"Enter The First Number Here:\"))\n",
    "    num2=float(input(\"Enter The Second Number Here:\"))\n",
    "    print(\"The Division of both numbers is:\",num1/num2)\n",
    "\n",
    " \n",
    "elif operation_name==5:\n",
    "    b=float(input(\"Enter The Base Number Here:\"))\n",
    "    p=float(input(\"Enter The Exponent Number Here:\"))\n",
    "    ans=b**p\n",
    "    print(\"The  of both numbers is:\",ans) \n",
    "    \n",
    "else:\n",
    "    print(\"Sorry this operation does not exist\")\n",
    "\n",
    "\n",
    "    "
   ]
  },
  {
   "cell_type": "code",
   "execution_count": null,
   "id": "5c460c29",
   "metadata": {},
   "outputs": [],
   "source": []
  }
 ],
 "metadata": {
  "kernelspec": {
   "display_name": "Python 3",
   "language": "python",
   "name": "python3"
  },
  "language_info": {
   "codemirror_mode": {
    "name": "ipython",
    "version": 3
   },
   "file_extension": ".py",
   "mimetype": "text/x-python",
   "name": "python",
   "nbconvert_exporter": "python",
   "pygments_lexer": "ipython3",
   "version": "3.8.8"
  }
 },
 "nbformat": 4,
 "nbformat_minor": 5
}
